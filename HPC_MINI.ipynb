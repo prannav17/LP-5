{
  "nbformat": 4,
  "nbformat_minor": 0,
  "metadata": {
    "colab": {
      "provenance": []
    },
    "kernelspec": {
      "name": "python3",
      "display_name": "Python 3"
    },
    "language_info": {
      "name": "python"
    }
  },
  "cells": [
    {
      "cell_type": "markdown",
      "source": [
        "RUHAAN HAWALDAR BE 21137"
      ],
      "metadata": {
        "id": "FZYZg4QO0tZB"
      }
    },
    {
      "cell_type": "code",
      "execution_count": null,
      "metadata": {
        "id": "4Cesor2qeFvM"
      },
      "outputs": [],
      "source": [
        "import concurrent.futures\n",
        "import random\n",
        "import time\n",
        "\n",
        "def quicksort(arr):\n",
        "    if len(arr) <= 1:\n",
        "        return arr\n",
        "    pivot = arr[0]\n",
        "    less = [x for x in arr[1:] if x <= pivot]\n",
        "    greater = [x for x in arr[1:] if x > pivot]\n",
        "    return quicksort(less) + [pivot] + quicksort(greater)\n",
        "\n",
        "def parallel_quicksort(arr, depth=0, max_depth=2):\n",
        "    if len(arr) <= 100_000 or depth >= max_depth:\n",
        "        return quicksort(arr)\n",
        "\n",
        "    pivot = arr[0]\n",
        "    less = [x for x in arr[1:] if x <= pivot]\n",
        "    greater = [x for x in arr[1:] if x > pivot]\n",
        "\n",
        "    with concurrent.futures.ThreadPoolExecutor(max_workers=2) as executor:\n",
        "        less_future = executor.submit(parallel_quicksort, less, depth + 1, max_depth)\n",
        "        greater_future = executor.submit(parallel_quicksort, greater, depth + 1, max_depth)\n",
        "\n",
        "        return less_future.result() + [pivot] + greater_future.result()\n"
      ]
    },
    {
      "cell_type": "code",
      "source": [
        "size = 10000000\n",
        "arr = [random.randint(0, 100000) for _ in range(size)]\n",
        "\n",
        "# Sequential\n",
        "start = time.time()\n",
        "sorted_seq = quicksort(arr)\n",
        "print(\"Sequential time:\", time.time() - start)\n",
        "\n",
        "# Parallel (Threaded)\n",
        "start = time.time()\n",
        "sorted_par = parallel_quicksort(arr)\n",
        "print(\"Parallel time:\", time.time() - start)\n"
      ],
      "metadata": {
        "colab": {
          "base_uri": "https://localhost:8080/"
        },
        "id": "j7LL4TMYgtJV",
        "outputId": "c8ec7217-f854-4a81-ba0a-5e9fdccac199"
      },
      "execution_count": null,
      "outputs": [
        {
          "output_type": "stream",
          "name": "stdout",
          "text": [
            "Sequential time: 136.28767228126526\n",
            "Parallel time: 141.98154854774475\n"
          ]
        }
      ]
    },
    {
      "cell_type": "code",
      "source": [],
      "metadata": {
        "id": "i7kNBF4J0zO4"
      },
      "execution_count": null,
      "outputs": []
    }
  ]
}