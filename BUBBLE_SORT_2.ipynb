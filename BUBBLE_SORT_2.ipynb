{
  "nbformat": 4,
  "nbformat_minor": 0,
  "metadata": {
    "colab": {
      "provenance": []
    },
    "kernelspec": {
      "name": "python3",
      "display_name": "Python 3"
    },
    "language_info": {
      "name": "python"
    }
  },
  "cells": [
    {
      "cell_type": "markdown",
      "source": [
        "RUHAAN HAWALDAR BE 21137"
      ],
      "metadata": {
        "id": "ALeeQQXOUHnm"
      }
    },
    {
      "cell_type": "code",
      "execution_count": null,
      "metadata": {
        "id": "4F40z8mdrBj8"
      },
      "outputs": [],
      "source": []
    },
    {
      "cell_type": "code",
      "execution_count": null,
      "metadata": {
        "id": "qYq8CVybTQNw"
      },
      "outputs": [],
      "source": [
        "code = r\"\"\"\n",
        "#include <omp.h>\n",
        "#include <stdio.h>\n",
        "#include <stdlib.h>\n",
        "\n",
        "void swap(int *num1, int *num2);\n",
        "\n",
        "int main (int argc, char *argv[]) {\n",
        "    int SIZE = 1 << 8; // 256 elements\n",
        "    int A[SIZE];\n",
        "\n",
        "    for (int i = 0; i < SIZE; i++) {\n",
        "        A[i] = rand() % SIZE;\n",
        "    }\n",
        "\n",
        "    int N = SIZE;\n",
        "    int i = 0, j = 0;\n",
        "    int first;\n",
        "    double start, end;\n",
        "    start = omp_get_wtime();\n",
        "\n",
        "    for (i = 0; i < N - 1; i++) {\n",
        "        first = i % 2;\n",
        "        #pragma omp parallel for default(none) shared(A, first, N)\n",
        "        for (j = first; j < N - 1; j++) {\n",
        "            if (A[j] > A[j + 1]) {\n",
        "                swap(&A[j], &A[j + 1]);\n",
        "            }\n",
        "        }\n",
        "    }\n",
        "\n",
        "    end = omp_get_wtime();\n",
        "\n",
        "    for (i = 0; i < N; i++) {\n",
        "        printf(\" %d\", A[i]);\n",
        "    }\n",
        "\n",
        "    printf(\"\\\\n-------------------------\\\\n Time Parallel= %f\\\\n\", (end - start));\n",
        "    return 0;\n",
        "}\n",
        "\n",
        "void swap(int *num1, int *num2) {\n",
        "    int temp = *num1;\n",
        "    *num1 = *num2;\n",
        "    *num2 = temp;\n",
        "}\n",
        "\"\"\"\n",
        "\n",
        "with open(\"parallel_sort.c\", \"w\") as f:\n",
        "    f.write(code)\n"
      ]
    },
    {
      "cell_type": "code",
      "source": [
        "!gcc -fopenmp parallel_sort.c -o parallel_sort"
      ],
      "metadata": {
        "id": "IvoGSSh1TRAc"
      },
      "execution_count": null,
      "outputs": []
    },
    {
      "cell_type": "code",
      "source": [
        "!./parallel_sort"
      ],
      "metadata": {
        "colab": {
          "base_uri": "https://localhost:8080/"
        },
        "id": "SkppfbbBTU0g",
        "outputId": "60d593d8-27c1-4b19-cd2e-445ee9ab96c8"
      },
      "execution_count": null,
      "outputs": [
        {
          "output_type": "stream",
          "name": "stdout",
          "text": [
            " 0 1 2 4 5 5 5 5 9 11 11 13 14 15 16 17 17 19 20 21 21 23 24 25 26 26 26 27 27 27 28 28 30 31 33 33 34 35 35 36 37 41 41 41 42 43 46 49 50 50 50 50 51 51 52 54 56 56 58 58 59 59 59 59 60 60 61 61 62 62 65 65 67 70 71 71 72 72 73 74 75 77 78 78 78 79 80 81 84 84 84 85 88 88 90 90 90 92 92 92 92 92 93 94 94 95 97 99 99 100 100 100 102 103 103 105 107 108 111 112 112 112 115 115 115 116 117 118 119 121 121 123 124 124 125 126 127 130 130 134 135 137 141 143 148 148 149 150 151 152 153 154 155 155 158 158 159 161 161 162 163 164 168 168 169 170 170 170 171 171 172 172 175 175 175 176 177 178 179 179 180 181 181 183 186 186 187 187 188 189 190 190 194 197 197 198 198 201 202 202 203 203 205 205 205 208 209 211 212 212 216 219 220 220 220 224 225 225 226 227 227 228 229 230 231 232 232 233 233 233 234 235 236 236 236 239 240 241 242 242 245 247 248 248 248 249 250 250 251 251 251 251 252 253 254 255\\n-------------------------\\n Time Parallel= 0.003595\\n"
          ]
        }
      ]
    },
    {
      "cell_type": "code",
      "source": [
        "code = r\"\"\"\n",
        "#include <stdio.h>\n",
        "#include <stdlib.h>\n",
        "#include <omp.h>\n",
        "\n",
        "void mergesort(int a[], int i, int j);\n",
        "void merge(int a[], int i1, int j1, int i2, int j2);\n",
        "\n",
        "void mergesort(int a[], int i, int j) {\n",
        "    int mid;\n",
        "    if (i < j) {\n",
        "        mid = (i + j) / 2;\n",
        "\n",
        "        #pragma omp parallel sections\n",
        "        {\n",
        "            #pragma omp section\n",
        "            {\n",
        "                mergesort(a, i, mid);\n",
        "            }\n",
        "\n",
        "            #pragma omp section\n",
        "            {\n",
        "                mergesort(a, mid + 1, j);\n",
        "            }\n",
        "        }\n",
        "\n",
        "        merge(a, i, mid, mid + 1, j);\n",
        "    }\n",
        "}\n",
        "\n",
        "void merge(int a[], int i1, int j1, int i2, int j2) {\n",
        "    int temp[1000];\n",
        "    int i = i1;\n",
        "    int j = i2;\n",
        "    int k = 0;\n",
        "\n",
        "    while (i <= j1 && j <= j2) {\n",
        "        if (a[i] < a[j]) {\n",
        "            temp[k++] = a[i++];\n",
        "        } else {\n",
        "            temp[k++] = a[j++];\n",
        "        }\n",
        "    }\n",
        "\n",
        "    while (i <= j1) {\n",
        "        temp[k++] = a[i++];\n",
        "    }\n",
        "\n",
        "    while (j <= j2) {\n",
        "        temp[k++] = a[j++];\n",
        "    }\n",
        "\n",
        "    for (i = i1, j = 0; i <= j2; i++, j++) {\n",
        "        a[i] = temp[j];\n",
        "    }\n",
        "}\n",
        "\n",
        "int main() {\n",
        "    int *a, n, i;\n",
        "\n",
        "    printf(\"\\nEnter total number of elements: \");\n",
        "    scanf(\"%d\", &n);\n",
        "\n",
        "    a = (int *)malloc(n * sizeof(int));\n",
        "    if (a == NULL) {\n",
        "        printf(\"Memory allocation failed.\\n\");\n",
        "        return 1;\n",
        "    }\n",
        "\n",
        "    printf(\"\\nEnter elements:\\n\");\n",
        "    for (i = 0; i < n; i++) {\n",
        "        scanf(\"%d\", &a[i]);\n",
        "    }\n",
        "\n",
        "    mergesort(a, 0, n - 1);\n",
        "\n",
        "    printf(\"\\nSorted array is:\\n\");\n",
        "    for (i = 0; i < n; i++) {\n",
        "        printf(\"%d\\n\", a[i]);\n",
        "    }\n",
        "\n",
        "    free(a);\n",
        "    return 0;\n",
        "}\n",
        "\"\"\"\n",
        "\n",
        "with open(\"parallel_mergesort.c\", \"w\") as f:\n",
        "    f.write(code)\n"
      ],
      "metadata": {
        "id": "xn2cOCXLTXLP"
      },
      "execution_count": null,
      "outputs": []
    },
    {
      "cell_type": "code",
      "source": [
        "!gcc -fopenmp parallel_mergesort.c -o parallel_mergesort"
      ],
      "metadata": {
        "id": "1d421VHMTnUY"
      },
      "execution_count": null,
      "outputs": []
    },
    {
      "cell_type": "code",
      "source": [
        "!./parallel_mergesort"
      ],
      "metadata": {
        "colab": {
          "base_uri": "https://localhost:8080/"
        },
        "id": "nGROuB2RTp42",
        "outputId": "53756148-4f0e-482b-d5f1-d51be8857ac7"
      },
      "execution_count": null,
      "outputs": [
        {
          "output_type": "stream",
          "name": "stdout",
          "text": [
            "\n",
            "Enter total number of elements: 10\n",
            "\n",
            "Enter elements:\n",
            "2 1 3 4 1 23 42 35 64 765 97\n",
            "\n",
            "Sorted array is:\n",
            "1\n",
            "1\n",
            "2\n",
            "3\n",
            "4\n",
            "23\n",
            "35\n",
            "42\n",
            "64\n",
            "765\n"
          ]
        }
      ]
    },
    {
      "cell_type": "code",
      "source": [],
      "metadata": {
        "id": "BzZHKSNWTsRe"
      },
      "execution_count": null,
      "outputs": []
    }
  ]
}