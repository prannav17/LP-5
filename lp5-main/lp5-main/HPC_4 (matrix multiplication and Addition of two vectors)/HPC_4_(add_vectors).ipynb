{
  "nbformat": 4,
  "nbformat_minor": 0,
  "metadata": {
    "colab": {
      "provenance": [],
      "gpuType": "T4"
    },
    "kernelspec": {
      "name": "python3",
      "display_name": "Python 3"
    },
    "language_info": {
      "name": "python"
    },
    "accelerator": "GPU"
  },
  "cells": [
    {
      "cell_type": "code",
      "source": [
        "# (Important) first go to runtime -> change runtime type -> Select T4 - GPU (Any Available GPU) -> Save\n",
        "!nvcc --version"
      ],
      "metadata": {
        "colab": {
          "base_uri": "https://localhost:8080/"
        },
        "id": "0t6gJMnK9l0A",
        "outputId": "4aaa7951-639a-4e9f-af2a-df8c81516e0b"
      },
      "execution_count": 4,
      "outputs": [
        {
          "output_type": "stream",
          "name": "stdout",
          "text": [
            "nvcc: NVIDIA (R) Cuda compiler driver\n",
            "Copyright (c) 2005-2024 NVIDIA Corporation\n",
            "Built on Thu_Jun__6_02:18:23_PDT_2024\n",
            "Cuda compilation tools, release 12.5, V12.5.82\n",
            "Build cuda_12.5.r12.5/compiler.34385749_0\n"
          ]
        }
      ]
    },
    {
      "cell_type": "code",
      "source": [
        "# Debug log: Check whether the Runtime is GPU based or not!\n",
        "import torch\n",
        "torch.cuda.is_available() # Should be True\n"
      ],
      "metadata": {
        "colab": {
          "base_uri": "https://localhost:8080/"
        },
        "id": "5nqSP9dm9nxP",
        "outputId": "64482cdd-11b0-4d91-f709-c0f72fa8dc51"
      },
      "execution_count": 5,
      "outputs": [
        {
          "output_type": "execute_result",
          "data": {
            "text/plain": [
              "True"
            ]
          },
          "metadata": {},
          "execution_count": 5
        }
      ]
    },
    {
      "cell_type": "code",
      "execution_count": 1,
      "metadata": {
        "id": "mZiEQ1XR7VmI"
      },
      "outputs": [],
      "source": [
        "cuda_code = r\"\"\"\n",
        "#include <stdio.h>\n",
        "#include <cuda.h>\n",
        "#include <stdlib.h>\n",
        "#include <time.h>\n",
        "\n",
        "#define N 500\n",
        "\n",
        "__global__ void add(int *a, int *b, int *c) {\n",
        "    int tid = threadIdx.x;\n",
        "    if (tid < N) {\n",
        "        c[tid] = a[tid] + b[tid];\n",
        "    }\n",
        "}\n",
        "\n",
        "int main(void) {\n",
        "    int a[N], b[N], c[N];\n",
        "    int *dev_a, *dev_b, *dev_c;\n",
        "\n",
        "    cudaError_t err = cudaSuccess;\n",
        "\n",
        "    err = cudaMalloc((void**)&dev_a, N * sizeof(int));\n",
        "    if (err != cudaSuccess) {\n",
        "        printf(\"Failed to allocate on device\\n\");\n",
        "        printf(\"Error is: %s\\n\", cudaGetErrorString(err));\n",
        "        exit(EXIT_FAILURE);\n",
        "    }\n",
        "\n",
        "    cudaMalloc((void**)&dev_b, N * sizeof(int));\n",
        "    cudaMalloc((void**)&dev_c, N * sizeof(int));\n",
        "\n",
        "    for (int i = 0; i < N; i++) {\n",
        "        a[i] = i;\n",
        "        b[i] = i * i;\n",
        "        c[i] = 0;\n",
        "    }\n",
        "\n",
        "    cudaEvent_t start, end;\n",
        "    cudaEventCreate(&start);\n",
        "    cudaEventCreate(&end);\n",
        "    cudaEventRecord(start);\n",
        "\n",
        "    cudaMemcpy(dev_a, a, N * sizeof(int), cudaMemcpyHostToDevice);\n",
        "    cudaMemcpy(dev_b, b, N * sizeof(int), cudaMemcpyHostToDevice);\n",
        "    cudaMemcpy(dev_c, c, N * sizeof(int), cudaMemcpyHostToDevice);\n",
        "\n",
        "    add<<<1, N>>>(dev_a, dev_b, dev_c);\n",
        "\n",
        "    err = cudaMemcpy(c, dev_c, N * sizeof(int), cudaMemcpyDeviceToHost);\n",
        "    if (err != cudaSuccess) {\n",
        "        printf(\"Failed to copy from device\\n\");\n",
        "        exit(EXIT_FAILURE);\n",
        "    }\n",
        "\n",
        "    cudaEventRecord(end);\n",
        "    cudaEventSynchronize(end);\n",
        "    float time = 0;\n",
        "    cudaEventElapsedTime(&time, start, end);\n",
        " printf(\"Name: Anurag Sawal BACO21158\\n\");\n",
        "     printf(\" \");\n",
        "\n",
        "    printf(\"Execution time = %f ms\\n\", time);\n",
        "\n",
        "    // Print a few sample results\n",
        "    for (int i = 0; i < 10; i++) {\n",
        "        printf(\"%d + %d = %d\\n\", a[i], b[i], c[i]);\n",
        "    }\n",
        "\n",
        "\n",
        "    cudaFree(dev_a);\n",
        "    cudaFree(dev_b);\n",
        "    cudaFree(dev_c);\n",
        "\n",
        "    return 0;\n",
        "}\n",
        "\"\"\"\n",
        "\n",
        "with open('add_vectors.cu', 'w') as f:\n",
        "    f.write(cuda_code)\n"
      ]
    },
    {
      "cell_type": "code",
      "source": [
        "!nvcc add_vectors.cu -o add_vectors -arch=sm_75 # -arch=sm_75 signifies For CUDA 12.5 with a T4 GPU (compute capability 7.5)"
      ],
      "metadata": {
        "id": "IwqgBTjc8Zrd"
      },
      "execution_count": 2,
      "outputs": []
    },
    {
      "cell_type": "code",
      "source": [
        "!./add_vectors"
      ],
      "metadata": {
        "colab": {
          "base_uri": "https://localhost:8080/"
        },
        "id": "edEUJzjw8xgi",
        "outputId": "61aff049-0d02-4ffa-c273-12307f74a061"
      },
      "execution_count": 3,
      "outputs": [
        {
          "output_type": "stream",
          "name": "stdout",
          "text": [
            "Name: Anurag Sawal BACO21158\n",
            " Execution time = 0.943072 ms\n",
            "0 + 0 = 0\n",
            "1 + 1 = 2\n",
            "2 + 4 = 6\n",
            "3 + 9 = 12\n",
            "4 + 16 = 20\n",
            "5 + 25 = 30\n",
            "6 + 36 = 42\n",
            "7 + 49 = 56\n",
            "8 + 64 = 72\n",
            "9 + 81 = 90\n"
          ]
        }
      ]
    },
    {
      "cell_type": "code",
      "source": [],
      "metadata": {
        "id": "gGCCNgmb9SkV"
      },
      "execution_count": null,
      "outputs": []
    }
  ]
}