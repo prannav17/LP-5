{
  "nbformat": 4,
  "nbformat_minor": 0,
  "metadata": {
    "colab": {
      "provenance": []
    },
    "kernelspec": {
      "name": "python3",
      "display_name": "Python 3"
    },
    "language_info": {
      "name": "python"
    }
  },
  "cells": [
    {
      "cell_type": "code",
      "execution_count": 3,
      "metadata": {
        "id": "vg9bNJ_zXVPL"
      },
      "outputs": [],
      "source": [
        "#Prajwal Gadhave BACO21145\n",
        "import random\n",
        "import time\n",
        "\n",
        "def quicksort(arr):\n",
        "    if len(arr) <= 1:\n",
        "        return arr\n",
        "    pivot = arr[0]\n",
        "    less = [x for x in arr[1:] if x <= pivot]\n",
        "    greater = [x for x in arr[1:] if x > pivot]\n",
        "    return quicksort(less) + [pivot] + quicksort(greater)\n",
        "\n",
        "def parallel_quicksort(arr, depth=0, max_depth=2):\n",
        "    if len(arr) <= 100_000 or depth >= max_depth:\n",
        "        return quicksort(arr)\n",
        "\n",
        "    pivot = arr[0]\n",
        "    less = [x for x in arr[1:] if x <= pivot]\n",
        "    greater = [x for x in arr[1:] if x > pivot]\n",
        "\n",
        "    with concurrent.futures.ThreadPoolExecutor(max_workers=2) as executor:\n",
        "        less_future = executor.submit(parallel_quicksort, less, depth + 1, max_depth)\n",
        "        greater_future = executor.submit(parallel_quicksort, greater, depth + 1, max_depth)\n",
        "\n",
        "        return less_future.result() + [pivot] + greater_future.result()\n"
      ]
    },
    {
      "cell_type": "code",
      "source": [
        "size = 100000\n",
        "arr = [random.randint(0, 1000) for _ in range(size)]\n",
        "print(\"#Prajwal Gadhave BACO21145\")\n",
        "# Sequential\n",
        "start = time.time()\n",
        "sorted_seq = quicksort(arr)\n",
        "print(\"Sequential time:\", time.time() - start)\n",
        "\n",
        "# Parallel (Threaded)\n",
        "start = time.time()\n",
        "sorted_par = parallel_quicksort(arr)\n",
        "print(\"Parallel time:\", time.time() - start)\n"
      ],
      "metadata": {
        "colab": {
          "base_uri": "https://localhost:8080/"
        },
        "id": "fGUnDKquYmxz",
        "outputId": "8791eba8-78fb-41c5-8a17-be9174624374"
      },
      "execution_count": 4,
      "outputs": [
        {
          "output_type": "stream",
          "name": "stdout",
          "text": [
            "#Prajwal Gadhave BACO21145\n",
            "Sequential time: 0.6307787895202637\n",
            "Parallel time: 0.6155099868774414\n"
          ]
        }
      ]
    },
    {
      "cell_type": "code",
      "source": [],
      "metadata": {
        "id": "QQElZQw4YQsm"
      },
      "execution_count": null,
      "outputs": []
    }
  ]
}