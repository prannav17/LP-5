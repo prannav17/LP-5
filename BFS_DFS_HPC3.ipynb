{
  "nbformat": 4,
  "nbformat_minor": 0,
  "metadata": {
    "colab": {
      "provenance": []
    },
    "kernelspec": {
      "name": "python3",
      "display_name": "Python 3"
    },
    "language_info": {
      "name": "python"
    }
  },
  "cells": [
    {
      "cell_type": "markdown",
      "source": [
        "RUHAAN HAWALDAR BE 21137"
      ],
      "metadata": {
        "id": "vddOcZDgUXHS"
      }
    },
    {
      "cell_type": "code",
      "execution_count": null,
      "metadata": {
        "id": "0MZlaXEcRnqs"
      },
      "outputs": [],
      "source": [
        "code = r\"\"\"\n",
        "#include <iostream>\n",
        "#include <queue>\n",
        "#include <omp.h>\n",
        "\n",
        "using namespace std;\n",
        "\n",
        "const int MAX = 1000;\n",
        "int graph[MAX][MAX], visited[MAX];\n",
        "\n",
        "void bfs(int start, int n) {\n",
        "    queue<int> q;\n",
        "    visited[start] = 1;\n",
        "    q.push(start);\n",
        "\n",
        "    while (!q.empty()) {\n",
        "        int curr = q.front();\n",
        "        q.pop();\n",
        "\n",
        "        #pragma omp parallel for shared(graph, visited, q) default(none) firstprivate(curr, n)\n",
        "        for (int i = 0; i < n; i++) {\n",
        "            if (graph[curr][i]) {\n",
        "                // Use atomic to avoid race condition on visited[i]\n",
        "                if (!visited[i]) {\n",
        "                    #pragma omp critical\n",
        "                    {\n",
        "                        if (!visited[i]) {\n",
        "                            visited[i] = 1;\n",
        "                            q.push(i);\n",
        "                        }\n",
        "                    }\n",
        "                }\n",
        "            }\n",
        "        }\n",
        "    }\n",
        "}\n",
        "\n",
        "int main() {\n",
        "    int n, start;\n",
        "\n",
        "    cout << \"Enter number of vertices: \";\n",
        "    cin >> n;\n",
        "\n",
        "    cout << \"Enter adjacency matrix:\\n\";\n",
        "    for (int i = 0; i < n; i++) {\n",
        "        for (int j = 0; j < n; j++) {\n",
        "            cin >> graph[i][j];\n",
        "        }\n",
        "    }\n",
        "\n",
        "    cout << \"Enter starting vertex (0-based index): \";\n",
        "    cin >> start;\n",
        "\n",
        "    bfs(start, n);\n",
        "\n",
        "    cout << \"BFS traversal: \";\n",
        "    for (int i = 0; i < n; i++) {\n",
        "        if (visited[i])\n",
        "            cout << i << \" \";\n",
        "    }\n",
        "    cout << endl;\n",
        "\n",
        "    return 0;\n",
        "}\n",
        "\"\"\"\n",
        "\n",
        "with open(\"bfs_parallel.cpp\", \"w\") as f:\n",
        "    f.write(code)\n"
      ]
    },
    {
      "cell_type": "code",
      "source": [
        "!g++ -fopenmp bfs_parallel.cpp -o bfs_parallel"
      ],
      "metadata": {
        "id": "i8eloeSkRo39"
      },
      "execution_count": null,
      "outputs": []
    },
    {
      "cell_type": "code",
      "source": [
        "!./bfs_parallel"
      ],
      "metadata": {
        "colab": {
          "base_uri": "https://localhost:8080/"
        },
        "id": "k4ltcpMhRxKY",
        "outputId": "56c645c3-36dc-4884-e5c0-f6bf9a5078ce"
      },
      "execution_count": null,
      "outputs": [
        {
          "output_type": "stream",
          "name": "stdout",
          "text": [
            "Enter number of vertices: 4\n",
            "Enter adjacency matrix:\n",
            "0 1 1 0 1 0 0 1 1 0 0 1 0 1 1 0\n",
            "Enter starting vertex (0-based index): 0\n",
            "BFS traversal: 0 1 2 3 \n"
          ]
        }
      ]
    },
    {
      "cell_type": "code",
      "source": [
        "code = r\"\"\"\n",
        "#include <iostream>\n",
        "#include <stack>\n",
        "#include <omp.h>\n",
        "using namespace std;\n",
        "\n",
        "const int MAX = 1000;\n",
        "int graph[MAX][MAX], visited[MAX];\n",
        "\n",
        "void dfs(int start, int n) {\n",
        "    stack<int> s;\n",
        "    s.push(start);\n",
        "\n",
        "    while (!s.empty()) {\n",
        "        int curr = s.top();\n",
        "        s.pop();\n",
        "\n",
        "        if (!visited[curr]) {\n",
        "            visited[curr] = 1;\n",
        "\n",
        "            // Parallelize this loop using OpenMP\n",
        "            #pragma omp parallel for schedule(dynamic)\n",
        "            for (int i = 0; i < n; i++) {\n",
        "                if (graph[curr][i] && !visited[i]) {\n",
        "                    #pragma omp critical\n",
        "                    s.push(i);\n",
        "                }\n",
        "            }\n",
        "        }\n",
        "    }\n",
        "}\n",
        "\n",
        "int main() {\n",
        "    int n, start;\n",
        "    cout << \"Enter number of vertices: \";\n",
        "    cin >> n;\n",
        "\n",
        "    cout << \"Enter adjacency matrix:\\n\";\n",
        "    for (int i = 0; i < n; i++) {\n",
        "        for (int j = 0; j < n; j++) {\n",
        "            cin >> graph[i][j];\n",
        "        }\n",
        "    }\n",
        "\n",
        "    cout << \"Enter starting vertex: \";\n",
        "    cin >> start;\n",
        "\n",
        "    // Launching dfs in a parallel region\n",
        "    #pragma omp parallel\n",
        "    {\n",
        "        #pragma omp single\n",
        "        dfs(start, n);\n",
        "    }\n",
        "\n",
        "    cout << \"DFS traversal: \";\n",
        "    for (int i = 0; i < n; i++) {\n",
        "        if (visited[i])\n",
        "            cout << i << \" \";\n",
        "    }\n",
        "    cout << endl;\n",
        "\n",
        "    return 0;\n",
        "}\n",
        "\"\"\"\n",
        "\n",
        "with open(\"dfs_parallel.cpp\", \"w\") as f:\n",
        "    f.write(code)\n"
      ],
      "metadata": {
        "id": "brp0ZkxoR0ED"
      },
      "execution_count": null,
      "outputs": []
    },
    {
      "cell_type": "code",
      "source": [
        "!g++ -fopenmp dfs_parallel.cpp -o dfs_parallel"
      ],
      "metadata": {
        "id": "e8cMUyUsSXBw"
      },
      "execution_count": null,
      "outputs": []
    },
    {
      "cell_type": "code",
      "source": [
        "!./dfs_parallel"
      ],
      "metadata": {
        "colab": {
          "base_uri": "https://localhost:8080/"
        },
        "id": "Cg0_2e1LSZwG",
        "outputId": "9544d8e9-433c-4d17-b608-0da11056cef1"
      },
      "execution_count": null,
      "outputs": [
        {
          "output_type": "stream",
          "name": "stdout",
          "text": [
            "Enter number of vertices: 4\n",
            "Enter adjacency matrix:\n",
            "0 1 1 0 1 0 0 1 1 0 0 1 0 1 1 0\n",
            "Enter starting vertex: 0\n",
            "DFS traversal: 0 1 2 3 \n"
          ]
        }
      ]
    },
    {
      "cell_type": "code",
      "source": [],
      "metadata": {
        "id": "7PurDixNScBd"
      },
      "execution_count": null,
      "outputs": []
    }
  ]
}